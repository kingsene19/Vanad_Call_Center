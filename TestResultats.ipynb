{
 "cells": [
  {
   "cell_type": "code",
   "execution_count": 1,
   "id": "112438d3",
   "metadata": {
    "scrolled": true
   },
   "outputs": [],
   "source": [
    "import pandas as pd\n",
    "import numpy as np\n",
    "import tensorflow as tf\n",
    "from keras.models import Sequential\n",
    "from keras.layers import Dense, Dropout\n",
    "from sklearn.model_selection import train_test_split\n",
    "from sklearn.preprocessing import StandardScaler"
   ]
  },
  {
   "cell_type": "markdown",
   "id": "cc757339",
   "metadata": {},
   "source": [
    "Nous commençons par charger le dataset créé"
   ]
  },
  {
   "cell_type": "code",
   "execution_count": 2,
   "id": "2c6f2c30",
   "metadata": {
    "scrolled": true
   },
   "outputs": [],
   "source": [
    "df = pd.read_csv(\"result.csv\")"
   ]
  },
  {
   "cell_type": "code",
   "execution_count": 3,
   "id": "42057823",
   "metadata": {
    "scrolled": true
   },
   "outputs": [
    {
     "data": {
      "text/html": [
       "<div>\n",
       "<style scoped>\n",
       "    .dataframe tbody tr th:only-of-type {\n",
       "        vertical-align: middle;\n",
       "    }\n",
       "\n",
       "    .dataframe tbody tr th {\n",
       "        vertical-align: top;\n",
       "    }\n",
       "\n",
       "    .dataframe thead th {\n",
       "        text-align: right;\n",
       "    }\n",
       "</style>\n",
       "<table border=\"1\" class=\"dataframe\">\n",
       "  <thead>\n",
       "    <tr style=\"text-align: right;\">\n",
       "      <th></th>\n",
       "      <th>TYPE</th>\n",
       "      <th>ARRIVAL_TIME</th>\n",
       "      <th>SERVING_TIME</th>\n",
       "      <th>WAIT_TIME</th>\n",
       "      <th>WAVGC_LES</th>\n",
       "      <th>LES</th>\n",
       "      <th>AVGLES</th>\n",
       "      <th>AVGCLES</th>\n",
       "      <th>SERVEURS</th>\n",
       "      <th>Q0</th>\n",
       "      <th>...</th>\n",
       "      <th>Q17</th>\n",
       "      <th>Q18</th>\n",
       "      <th>Q19</th>\n",
       "      <th>Q20</th>\n",
       "      <th>Q21</th>\n",
       "      <th>Q22</th>\n",
       "      <th>Q23</th>\n",
       "      <th>Q24</th>\n",
       "      <th>Q25</th>\n",
       "      <th>Q26</th>\n",
       "    </tr>\n",
       "  </thead>\n",
       "  <tbody>\n",
       "    <tr>\n",
       "      <th>0</th>\n",
       "      <td>5</td>\n",
       "      <td>3801.0</td>\n",
       "      <td>152.0</td>\n",
       "      <td>1.0</td>\n",
       "      <td>-1.000000</td>\n",
       "      <td>0.0</td>\n",
       "      <td>0.0</td>\n",
       "      <td>0.00</td>\n",
       "      <td>0</td>\n",
       "      <td>0</td>\n",
       "      <td>...</td>\n",
       "      <td>0</td>\n",
       "      <td>0</td>\n",
       "      <td>0</td>\n",
       "      <td>0</td>\n",
       "      <td>0</td>\n",
       "      <td>0</td>\n",
       "      <td>0</td>\n",
       "      <td>0</td>\n",
       "      <td>0</td>\n",
       "      <td>0</td>\n",
       "    </tr>\n",
       "    <tr>\n",
       "      <th>1</th>\n",
       "      <td>20</td>\n",
       "      <td>3877.0</td>\n",
       "      <td>311.0</td>\n",
       "      <td>1.0</td>\n",
       "      <td>-1.000000</td>\n",
       "      <td>0.0</td>\n",
       "      <td>0.0</td>\n",
       "      <td>0.00</td>\n",
       "      <td>1</td>\n",
       "      <td>0</td>\n",
       "      <td>...</td>\n",
       "      <td>0</td>\n",
       "      <td>0</td>\n",
       "      <td>0</td>\n",
       "      <td>0</td>\n",
       "      <td>0</td>\n",
       "      <td>0</td>\n",
       "      <td>0</td>\n",
       "      <td>0</td>\n",
       "      <td>0</td>\n",
       "      <td>0</td>\n",
       "    </tr>\n",
       "    <tr>\n",
       "      <th>2</th>\n",
       "      <td>5</td>\n",
       "      <td>4087.0</td>\n",
       "      <td>149.0</td>\n",
       "      <td>1.0</td>\n",
       "      <td>1.000000</td>\n",
       "      <td>1.0</td>\n",
       "      <td>1.0</td>\n",
       "      <td>1.00</td>\n",
       "      <td>2</td>\n",
       "      <td>0</td>\n",
       "      <td>...</td>\n",
       "      <td>0</td>\n",
       "      <td>0</td>\n",
       "      <td>0</td>\n",
       "      <td>0</td>\n",
       "      <td>0</td>\n",
       "      <td>0</td>\n",
       "      <td>0</td>\n",
       "      <td>0</td>\n",
       "      <td>0</td>\n",
       "      <td>0</td>\n",
       "    </tr>\n",
       "    <tr>\n",
       "      <th>3</th>\n",
       "      <td>5</td>\n",
       "      <td>4158.0</td>\n",
       "      <td>269.0</td>\n",
       "      <td>1.0</td>\n",
       "      <td>1.000000</td>\n",
       "      <td>1.0</td>\n",
       "      <td>1.0</td>\n",
       "      <td>1.00</td>\n",
       "      <td>5</td>\n",
       "      <td>0</td>\n",
       "      <td>...</td>\n",
       "      <td>0</td>\n",
       "      <td>0</td>\n",
       "      <td>0</td>\n",
       "      <td>0</td>\n",
       "      <td>0</td>\n",
       "      <td>0</td>\n",
       "      <td>0</td>\n",
       "      <td>0</td>\n",
       "      <td>0</td>\n",
       "      <td>0</td>\n",
       "    </tr>\n",
       "    <tr>\n",
       "      <th>4</th>\n",
       "      <td>5</td>\n",
       "      <td>4150.0</td>\n",
       "      <td>303.0</td>\n",
       "      <td>1.0</td>\n",
       "      <td>1.000000</td>\n",
       "      <td>1.0</td>\n",
       "      <td>1.0</td>\n",
       "      <td>1.00</td>\n",
       "      <td>4</td>\n",
       "      <td>0</td>\n",
       "      <td>...</td>\n",
       "      <td>0</td>\n",
       "      <td>0</td>\n",
       "      <td>0</td>\n",
       "      <td>0</td>\n",
       "      <td>0</td>\n",
       "      <td>0</td>\n",
       "      <td>0</td>\n",
       "      <td>0</td>\n",
       "      <td>0</td>\n",
       "      <td>0</td>\n",
       "    </tr>\n",
       "    <tr>\n",
       "      <th>...</th>\n",
       "      <td>...</td>\n",
       "      <td>...</td>\n",
       "      <td>...</td>\n",
       "      <td>...</td>\n",
       "      <td>...</td>\n",
       "      <td>...</td>\n",
       "      <td>...</td>\n",
       "      <td>...</td>\n",
       "      <td>...</td>\n",
       "      <td>...</td>\n",
       "      <td>...</td>\n",
       "      <td>...</td>\n",
       "      <td>...</td>\n",
       "      <td>...</td>\n",
       "      <td>...</td>\n",
       "      <td>...</td>\n",
       "      <td>...</td>\n",
       "      <td>...</td>\n",
       "      <td>...</td>\n",
       "      <td>...</td>\n",
       "      <td>...</td>\n",
       "    </tr>\n",
       "    <tr>\n",
       "      <th>1462939</th>\n",
       "      <td>5</td>\n",
       "      <td>46656.0</td>\n",
       "      <td>6.0</td>\n",
       "      <td>1.0</td>\n",
       "      <td>10.787741</td>\n",
       "      <td>50.0</td>\n",
       "      <td>5.9</td>\n",
       "      <td>3.21</td>\n",
       "      <td>2</td>\n",
       "      <td>0</td>\n",
       "      <td>...</td>\n",
       "      <td>0</td>\n",
       "      <td>0</td>\n",
       "      <td>0</td>\n",
       "      <td>0</td>\n",
       "      <td>0</td>\n",
       "      <td>0</td>\n",
       "      <td>0</td>\n",
       "      <td>0</td>\n",
       "      <td>0</td>\n",
       "      <td>0</td>\n",
       "    </tr>\n",
       "    <tr>\n",
       "      <th>1462940</th>\n",
       "      <td>2</td>\n",
       "      <td>46545.0</td>\n",
       "      <td>81.0</td>\n",
       "      <td>109.0</td>\n",
       "      <td>10.337674</td>\n",
       "      <td>1.0</td>\n",
       "      <td>69.4</td>\n",
       "      <td>4.06</td>\n",
       "      <td>5</td>\n",
       "      <td>0</td>\n",
       "      <td>...</td>\n",
       "      <td>0</td>\n",
       "      <td>0</td>\n",
       "      <td>0</td>\n",
       "      <td>0</td>\n",
       "      <td>0</td>\n",
       "      <td>0</td>\n",
       "      <td>0</td>\n",
       "      <td>0</td>\n",
       "      <td>0</td>\n",
       "      <td>0</td>\n",
       "    </tr>\n",
       "    <tr>\n",
       "      <th>1462941</th>\n",
       "      <td>2</td>\n",
       "      <td>46653.0</td>\n",
       "      <td>88.0</td>\n",
       "      <td>1.0</td>\n",
       "      <td>67.700640</td>\n",
       "      <td>1.0</td>\n",
       "      <td>69.4</td>\n",
       "      <td>32.04</td>\n",
       "      <td>2</td>\n",
       "      <td>0</td>\n",
       "      <td>...</td>\n",
       "      <td>0</td>\n",
       "      <td>0</td>\n",
       "      <td>0</td>\n",
       "      <td>0</td>\n",
       "      <td>0</td>\n",
       "      <td>0</td>\n",
       "      <td>0</td>\n",
       "      <td>0</td>\n",
       "      <td>0</td>\n",
       "      <td>0</td>\n",
       "    </tr>\n",
       "    <tr>\n",
       "      <th>1462942</th>\n",
       "      <td>20</td>\n",
       "      <td>46741.0</td>\n",
       "      <td>3.0</td>\n",
       "      <td>1.0</td>\n",
       "      <td>8.597853</td>\n",
       "      <td>38.0</td>\n",
       "      <td>4.7</td>\n",
       "      <td>4.09</td>\n",
       "      <td>2</td>\n",
       "      <td>0</td>\n",
       "      <td>...</td>\n",
       "      <td>0</td>\n",
       "      <td>0</td>\n",
       "      <td>0</td>\n",
       "      <td>0</td>\n",
       "      <td>0</td>\n",
       "      <td>0</td>\n",
       "      <td>0</td>\n",
       "      <td>0</td>\n",
       "      <td>0</td>\n",
       "      <td>0</td>\n",
       "    </tr>\n",
       "    <tr>\n",
       "      <th>1462943</th>\n",
       "      <td>5</td>\n",
       "      <td>46787.0</td>\n",
       "      <td>3.0</td>\n",
       "      <td>1.0</td>\n",
       "      <td>6.011323</td>\n",
       "      <td>1.0</td>\n",
       "      <td>5.9</td>\n",
       "      <td>3.22</td>\n",
       "      <td>2</td>\n",
       "      <td>0</td>\n",
       "      <td>...</td>\n",
       "      <td>0</td>\n",
       "      <td>0</td>\n",
       "      <td>0</td>\n",
       "      <td>0</td>\n",
       "      <td>0</td>\n",
       "      <td>0</td>\n",
       "      <td>0</td>\n",
       "      <td>0</td>\n",
       "      <td>0</td>\n",
       "      <td>0</td>\n",
       "    </tr>\n",
       "  </tbody>\n",
       "</table>\n",
       "<p>1462944 rows × 36 columns</p>\n",
       "</div>"
      ],
      "text/plain": [
       "         TYPE  ARRIVAL_TIME  SERVING_TIME  WAIT_TIME  WAVGC_LES   LES  AVGLES  \\\n",
       "0           5        3801.0         152.0        1.0  -1.000000   0.0     0.0   \n",
       "1          20        3877.0         311.0        1.0  -1.000000   0.0     0.0   \n",
       "2           5        4087.0         149.0        1.0   1.000000   1.0     1.0   \n",
       "3           5        4158.0         269.0        1.0   1.000000   1.0     1.0   \n",
       "4           5        4150.0         303.0        1.0   1.000000   1.0     1.0   \n",
       "...       ...           ...           ...        ...        ...   ...     ...   \n",
       "1462939     5       46656.0           6.0        1.0  10.787741  50.0     5.9   \n",
       "1462940     2       46545.0          81.0      109.0  10.337674   1.0    69.4   \n",
       "1462941     2       46653.0          88.0        1.0  67.700640   1.0    69.4   \n",
       "1462942    20       46741.0           3.0        1.0   8.597853  38.0     4.7   \n",
       "1462943     5       46787.0           3.0        1.0   6.011323   1.0     5.9   \n",
       "\n",
       "         AVGCLES  SERVEURS  Q0  ...  Q17  Q18  Q19  Q20  Q21  Q22  Q23  Q24  \\\n",
       "0           0.00         0   0  ...    0    0    0    0    0    0    0    0   \n",
       "1           0.00         1   0  ...    0    0    0    0    0    0    0    0   \n",
       "2           1.00         2   0  ...    0    0    0    0    0    0    0    0   \n",
       "3           1.00         5   0  ...    0    0    0    0    0    0    0    0   \n",
       "4           1.00         4   0  ...    0    0    0    0    0    0    0    0   \n",
       "...          ...       ...  ..  ...  ...  ...  ...  ...  ...  ...  ...  ...   \n",
       "1462939     3.21         2   0  ...    0    0    0    0    0    0    0    0   \n",
       "1462940     4.06         5   0  ...    0    0    0    0    0    0    0    0   \n",
       "1462941    32.04         2   0  ...    0    0    0    0    0    0    0    0   \n",
       "1462942     4.09         2   0  ...    0    0    0    0    0    0    0    0   \n",
       "1462943     3.22         2   0  ...    0    0    0    0    0    0    0    0   \n",
       "\n",
       "         Q25  Q26  \n",
       "0          0    0  \n",
       "1          0    0  \n",
       "2          0    0  \n",
       "3          0    0  \n",
       "4          0    0  \n",
       "...      ...  ...  \n",
       "1462939    0    0  \n",
       "1462940    0    0  \n",
       "1462941    0    0  \n",
       "1462942    0    0  \n",
       "1462943    0    0  \n",
       "\n",
       "[1462944 rows x 36 columns]"
      ]
     },
     "execution_count": 3,
     "metadata": {},
     "output_type": "execute_result"
    }
   ],
   "source": [
    "df[\"AVGLES\"]=df[\"AVGLES\"].replace(np.nan, 0)\n",
    "df[\"AVGCLES\"]=df[\"AVGCLES\"].replace(np.nan, 0)\n",
    "df"
   ]
  },
  {
   "cell_type": "code",
   "execution_count": 6,
   "id": "ecaf863a",
   "metadata": {
    "scrolled": true
   },
   "outputs": [],
   "source": [
    "type_counts = df['TYPE'].value_counts()\n",
    "top_5_types = type_counts.nlargest(5).index\n",
    "new_df = df[df['TYPE'].isin(top_5_types)].copy()"
   ]
  },
  {
   "cell_type": "code",
   "execution_count": 7,
   "id": "acc499eb",
   "metadata": {
    "scrolled": true
   },
   "outputs": [
    {
     "data": {
      "text/plain": [
       "Int64Index([5, 20, 2, 11, 9], dtype='int64')"
      ]
     },
     "execution_count": 7,
     "metadata": {},
     "output_type": "execute_result"
    }
   ],
   "source": [
    "top_5_types"
   ]
  },
  {
   "cell_type": "code",
   "execution_count": 8,
   "id": "6ab03714",
   "metadata": {
    "scrolled": false
   },
   "outputs": [
    {
     "name": "stdout",
     "output_type": "stream",
     "text": [
      "Dataframe pour le type 2\n",
      "         TYPE  ARRIVAL_TIME  SERVING_TIME  WAIT_TIME  WAVGC_LES  LES  AVGLES  \\\n",
      "5           2        4193.0         283.0        1.0   1.000000  1.0     1.0   \n",
      "6           2        4106.0         392.0        1.0   1.000000  1.0     1.0   \n",
      "8           2        3986.0         530.0        1.0  -1.000000  0.0     0.0   \n",
      "9           2        4416.0         118.0        1.0   1.000000  1.0     1.0   \n",
      "15          2        4683.0         191.0        1.0   1.000000  1.0     1.0   \n",
      "...       ...           ...           ...        ...        ...  ...     ...   \n",
      "1462926     2       44975.0          77.0        1.0  19.237645  1.0    95.5   \n",
      "1462931     2       45949.0         185.0        1.0  15.590116  1.0    95.5   \n",
      "1462932     2       46110.0          70.0        1.0  12.672093  1.0    95.5   \n",
      "1462940     2       46545.0          81.0      109.0  10.337674  1.0    69.4   \n",
      "1462941     2       46653.0          88.0        1.0  67.700640  1.0    69.4   \n",
      "\n",
      "         AVGCLES  SERVEURS  Q0  ...  Q17  Q18  Q19  Q20  Q21  Q22  Q23  Q24  \\\n",
      "5           1.00         5   0  ...    0    0    0    0    0    0    0    0   \n",
      "6           1.00         3   0  ...    0    0    0    0    0    0    0    0   \n",
      "8           0.00         1   0  ...    0    0    0    0    0    0    0    0   \n",
      "9           1.00         6   0  ...    0    0    0    0    0    0    0    0   \n",
      "15          1.00         3   0  ...    0    0    0    0    0    0    0    0   \n",
      "...          ...       ...  ..  ...  ...  ...  ...  ...  ...  ...  ...  ...   \n",
      "1462926     4.06         3   0  ...    0    0    0    0    0    0    0    0   \n",
      "1462931     4.06         1   0  ...    0    0    0    0    0    0    0    0   \n",
      "1462932     4.06         2   0  ...    0    0    0    0    0    0    0    0   \n",
      "1462940     4.06         5   0  ...    0    0    0    0    0    0    0    0   \n",
      "1462941    32.04         2   0  ...    0    0    0    0    0    0    0    0   \n",
      "\n",
      "         Q25  Q26  \n",
      "5          0    0  \n",
      "6          0    0  \n",
      "8          0    0  \n",
      "9          0    0  \n",
      "15         0    0  \n",
      "...      ...  ...  \n",
      "1462926    0    0  \n",
      "1462931    0    0  \n",
      "1462932    0    0  \n",
      "1462940    0    0  \n",
      "1462941    0    0  \n",
      "\n",
      "[266225 rows x 36 columns]\n",
      "Dataframe pour le type 5\n",
      "         TYPE  ARRIVAL_TIME  SERVING_TIME  WAIT_TIME  WAVGC_LES   LES  AVGLES  \\\n",
      "0           5        3801.0         152.0        1.0  -1.000000   0.0     0.0   \n",
      "2           5        4087.0         149.0        1.0   1.000000   1.0     1.0   \n",
      "3           5        4158.0         269.0        1.0   1.000000   1.0     1.0   \n",
      "4           5        4150.0         303.0        1.0   1.000000   1.0     1.0   \n",
      "10          5        4373.0         200.0        1.0   1.000000   1.0     1.0   \n",
      "...       ...           ...           ...        ...        ...   ...     ...   \n",
      "1462935     5       46243.0         396.0        1.0   0.970071   1.0     1.0   \n",
      "1462937     5       46328.0         324.0        1.0   0.976057   1.0     1.0   \n",
      "1462938     5       46423.0         230.0        1.0   0.980845   1.0     1.0   \n",
      "1462939     5       46656.0           6.0        1.0  10.787741  50.0     5.9   \n",
      "1462943     5       46787.0           3.0        1.0   6.011323   1.0     5.9   \n",
      "\n",
      "         AVGCLES  SERVEURS  Q0  ...  Q17  Q18  Q19  Q20  Q21  Q22  Q23  Q24  \\\n",
      "0           0.00         0   0  ...    0    0    0    0    0    0    0    0   \n",
      "2           1.00         2   0  ...    0    0    0    0    0    0    0    0   \n",
      "3           1.00         5   0  ...    0    0    0    0    0    0    0    0   \n",
      "4           1.00         4   0  ...    0    0    0    0    0    0    0    0   \n",
      "10          1.00         5   0  ...    0    0    0    0    0    0    0    0   \n",
      "...          ...       ...  ..  ...  ...  ...  ...  ...  ...  ...  ...  ...   \n",
      "1462935     2.72         1   0  ...    0    0    0    0    0    0    0    0   \n",
      "1462937     2.72         2   0  ...    0    0    0    0    0    0    0    0   \n",
      "1462938     2.72         3   0  ...    0    0    0    0    0    0    0    0   \n",
      "1462939     3.21         2   0  ...    0    0    0    0    0    0    0    0   \n",
      "1462943     3.22         2   0  ...    0    0    0    0    0    0    0    0   \n",
      "\n",
      "         Q25  Q26  \n",
      "0          0    0  \n",
      "2          0    0  \n",
      "3          0    0  \n",
      "4          0    0  \n",
      "10         0    0  \n",
      "...      ...  ...  \n",
      "1462935    0    0  \n",
      "1462937    0    0  \n",
      "1462938    0    0  \n",
      "1462939    0    0  \n",
      "1462943    0    0  \n",
      "\n",
      "[579917 rows x 36 columns]\n",
      "Dataframe pour le type 9\n",
      "         TYPE  ARRIVAL_TIME  SERVING_TIME  WAIT_TIME  WAVGC_LES  LES  AVGLES  \\\n",
      "20          9        4836.0         216.0        1.0  -1.000000  0.0     0.0   \n",
      "21          9        4982.0          90.0        1.0   1.000000  1.0     1.0   \n",
      "25          9        5078.0         157.0        1.0   1.000000  1.0     1.0   \n",
      "27          9        5288.0         108.0        1.0   1.000000  1.0     1.0   \n",
      "30          9        4934.0         509.0        1.0   1.000000  1.0     1.0   \n",
      "...       ...           ...           ...        ...        ...  ...     ...   \n",
      "1462840     9       39022.0          58.0        1.0   3.055070  1.0     3.5   \n",
      "1462841     9       38977.0         151.0        1.0   3.568838  1.0     3.5   \n",
      "1462852     9       39409.0         133.0        1.0   2.644056  1.0     3.5   \n",
      "1462858     9       39843.0           4.0        0.0   2.315245  1.0     3.5   \n",
      "1462875     9       40560.0         337.0        1.0   1.852196  0.0     3.4   \n",
      "\n",
      "         AVGCLES  SERVEURS  Q0  ...  Q17  Q18  Q19  Q20  Q21  Q22  Q23  Q24  \\\n",
      "20          0.00         6   0  ...    0    0    0    0    0    0    0    0   \n",
      "21          1.00         6   0  ...    0    0    0    0    0    0    0    0   \n",
      "25          1.00         5   0  ...    0    0    0    0    0    0    0    0   \n",
      "27          1.00         7   0  ...    0    0    0    0    0    0    0    0   \n",
      "30          1.00         7   0  ...    0    0    0    0    0    0    0    0   \n",
      "...          ...       ...  ..  ...  ...  ...  ...  ...  ...  ...  ...  ...   \n",
      "1462840     6.97         5   0  ...    0    0    0    0    0    0    0    0   \n",
      "1462841     6.97         4   0  ...    0    0    0    0    0    0    0    0   \n",
      "1462852     6.97         4   0  ...    0    0    0    0    0    0    0    0   \n",
      "1462858     6.97         2   0  ...    0    0    0    0    0    0    0    0   \n",
      "1462875     6.83         3   0  ...    0    0    0    0    0    0    0    0   \n",
      "\n",
      "         Q25  Q26  \n",
      "20         0    0  \n",
      "21         0    0  \n",
      "25         0    0  \n",
      "27         0    0  \n",
      "30         0    0  \n",
      "...      ...  ...  \n",
      "1462840    0    0  \n",
      "1462841    0    0  \n",
      "1462852    0    0  \n",
      "1462858    0    0  \n",
      "1462875    0    0  \n",
      "\n",
      "[64596 rows x 36 columns]\n",
      "Dataframe pour le type 11\n",
      "         TYPE  ARRIVAL_TIME  SERVING_TIME  WAIT_TIME  WAVGC_LES  LES  \\\n",
      "117        11        7335.0          12.0        1.0   1.000000  1.0   \n",
      "119        11        7318.0          55.0        1.0   1.000000  1.0   \n",
      "140        11        7262.0         331.0        1.0   1.000000  1.0   \n",
      "155        11        7405.0         304.0        0.0   1.000000  1.0   \n",
      "162        11        7548.0         210.0        1.0   0.918080  1.0   \n",
      "...       ...           ...           ...        ...        ...  ...   \n",
      "1462645    11       34733.0         383.0        1.0   0.950224  1.0   \n",
      "1462654    11       34931.0         297.0        1.0   0.974514  1.0   \n",
      "1462665    11       34407.0         925.0        1.0   0.922224  1.0   \n",
      "1462685    11       34818.0         693.0        1.0   0.968143  1.0   \n",
      "1462726    11       35386.0         647.0        1.0   0.979612  1.0   \n",
      "\n",
      "           AVGLES   AVGCLES  SERVEURS  Q0  ...  Q17  Q18  Q19  Q20  Q21  Q22  \\\n",
      "117      1.000000  1.000000        25   0  ...    0    0    0    0    0    0   \n",
      "119      1.000000  1.000000        22   0  ...    0    0    0    0    0    0   \n",
      "140      1.000000  1.000000        18   0  ...    0    0    0    0    0    0   \n",
      "155      1.000000  1.000000        23   0  ...    0    0    0    0    0    0   \n",
      "162      0.888889  0.888889        38   0  ...    0    0    0    0    0    0   \n",
      "...           ...       ...       ...  ..  ...  ...  ...  ...  ...  ...  ...   \n",
      "1462645  0.900000  4.500000        40   0  ...    0    0    0    0    0    0   \n",
      "1462654  0.900000  4.490000        37   0  ...    0    0    0    0    0    0   \n",
      "1462665  0.900000  4.560000        43   0  ...    0    0    0    0    0    0   \n",
      "1462685  0.900000  4.490000        37   0  ...    0    0    0    0    0    0   \n",
      "1462726  0.900000  4.500000        30   0  ...    0    0    0    0    0    0   \n",
      "\n",
      "         Q23  Q24  Q25  Q26  \n",
      "117        0    0    0    0  \n",
      "119        0    0    0    0  \n",
      "140        0    0    0    0  \n",
      "155        0    0    0    0  \n",
      "162        0    0    0    0  \n",
      "...      ...  ...  ...  ...  \n",
      "1462645    0    0    0    0  \n",
      "1462654    0    0    0    0  \n",
      "1462665    0    0    0    0  \n",
      "1462685    0    0    0    0  \n",
      "1462726    0    0    0    0  \n",
      "\n",
      "[148074 rows x 36 columns]\n",
      "Dataframe pour le type 20\n",
      "         TYPE  ARRIVAL_TIME  SERVING_TIME  WAIT_TIME  WAVGC_LES   LES  AVGLES  \\\n",
      "1          20        3877.0         311.0        1.0  -1.000000   0.0     0.0   \n",
      "7          20        4469.0          46.0        1.0   1.000000   1.0     1.0   \n",
      "14         20        4694.0         145.0        1.0   1.000000   1.0     1.0   \n",
      "22         20        4620.0         458.0        1.0   1.000000   1.0     1.0   \n",
      "31         20        5420.0         199.0        1.0   1.000000   1.0     1.0   \n",
      "...       ...           ...           ...        ...        ...   ...     ...   \n",
      "1462929    20       45729.0          77.0        1.0   1.483040   1.0     1.0   \n",
      "1462930    20       45763.0         151.0        1.0   1.386432   1.0     1.0   \n",
      "1462933    20       45938.0         549.0        1.0   1.309146   1.0     1.0   \n",
      "1462936    20       46454.0         158.0       38.0   1.247317   1.0     1.0   \n",
      "1462942    20       46741.0           3.0        1.0   8.597853  38.0     4.7   \n",
      "\n",
      "         AVGCLES  SERVEURS  Q0  ...  Q17  Q18  Q19  Q20  Q21  Q22  Q23  Q24  \\\n",
      "1           0.00         1   0  ...    0    0    0    0    0    0    0    0   \n",
      "7           1.00         5   0  ...    0    0    0    0    0    0    0    0   \n",
      "14          1.00         4   0  ...    0    0    0    0    0    0    0    0   \n",
      "22          1.00         2   0  ...    0    0    0    0    0    0    0    0   \n",
      "31          1.00         7   0  ...    0    0    0    0    0    0    0    0   \n",
      "...          ...       ...  ..  ...  ...  ...  ...  ...  ...  ...  ...  ...   \n",
      "1462929     3.72         0   0  ...    0    0    0    0    0    0    0    0   \n",
      "1462930     3.72         1   0  ...    0    0    0    0    0    0    0    0   \n",
      "1462933     3.72         0   0  ...    0    0    0    0    0    0    0    0   \n",
      "1462936     3.72         4   0  ...    0    0    0    0    0    0    0    0   \n",
      "1462942     4.09         2   0  ...    0    0    0    0    0    0    0    0   \n",
      "\n",
      "         Q25  Q26  \n",
      "1          0    0  \n",
      "7          0    0  \n",
      "14         0    0  \n",
      "22         0    0  \n",
      "31         0    0  \n",
      "...      ...  ...  \n",
      "1462929    0    0  \n",
      "1462930    0    0  \n",
      "1462933    0    0  \n",
      "1462936    0    0  \n",
      "1462942    0    0  \n",
      "\n",
      "[312736 rows x 36 columns]\n"
     ]
    }
   ],
   "source": [
    "grouped_df = new_df.groupby(\"TYPE\")\n",
    "for group, subset_df in grouped_df:\n",
    "    print(f\"Dataframe pour le type {group}\")\n",
    "    print(subset_df)"
   ]
  },
  {
   "cell_type": "markdown",
   "id": "aeae5885",
   "metadata": {},
   "source": [
    "### Creation des ANN pour chaque type\n",
    "\n",
    "Nous commençons par créer un dataframe pour chacun des 5 services, on le convertit en numpy array, on normalise les données et on sépare les données en train et test"
   ]
  },
  {
   "cell_type": "code",
   "execution_count": 9,
   "id": "e5e9dda1",
   "metadata": {
    "scrolled": true
   },
   "outputs": [],
   "source": [
    "X1,y1 = df[df['TYPE']==top_5_types[0]].copy().drop(columns=[\"WAIT_TIME\",\"TYPE\"]).to_numpy(),df[df['TYPE']==top_5_types[0]].copy()[\"WAIT_TIME\"].to_numpy()\n",
    "X2,y2 = df[df['TYPE']==top_5_types[1]].copy().drop(columns=[\"WAIT_TIME\",\"TYPE\"]).to_numpy(),df[df['TYPE']==top_5_types[1]].copy()[\"WAIT_TIME\"].to_numpy()\n",
    "X3,y3 = df[df['TYPE']==top_5_types[2]].copy().drop(columns=[\"WAIT_TIME\",\"TYPE\"]).to_numpy(),df[df['TYPE']==top_5_types[2]].copy()[\"WAIT_TIME\"].to_numpy()\n",
    "X4,y4 = df[df['TYPE']==top_5_types[3]].copy().drop(columns=[\"WAIT_TIME\",\"TYPE\"]).to_numpy(),df[df['TYPE']==top_5_types[3]].copy()[\"WAIT_TIME\"].to_numpy()\n",
    "X5,y5 = df[df['TYPE']==top_5_types[4]].copy().drop(columns=[\"WAIT_TIME\",\"TYPE\"]).to_numpy(),df[df['TYPE']==top_5_types[4]].copy()[\"WAIT_TIME\"].to_numpy()"
   ]
  },
  {
   "cell_type": "code",
   "execution_count": 10,
   "id": "2d6ff8a0",
   "metadata": {
    "scrolled": true
   },
   "outputs": [],
   "source": [
    "sc = StandardScaler()\n",
    "X1 = sc.fit_transform(X1)\n",
    "X2 = sc.fit_transform(X2)\n",
    "X3 = sc.fit_transform(X3)\n",
    "X4 = sc.fit_transform(X4)\n",
    "X5 = sc.fit_transform(X5)"
   ]
  },
  {
   "cell_type": "code",
   "execution_count": 11,
   "id": "cf541cb5",
   "metadata": {
    "scrolled": true
   },
   "outputs": [],
   "source": [
    "X1_train, X1_test, y1_train, y1_test = train_test_split(X1,y1,test_size=0.2,random_state=42)\n",
    "X2_train, X2_test, y2_train, y2_test = train_test_split(X2,y2,test_size=0.2,random_state=42)\n",
    "X3_train, X3_test, y3_train, y3_test = train_test_split(X3,y3,test_size=0.2,random_state=42)\n",
    "X4_train, X4_test, y4_train, y4_test = train_test_split(X4,y4,test_size=0.2,random_state=42)\n",
    "X5_train, X5_test, y5_train, y5_test = train_test_split(X5,y5,test_size=0.2,random_state=42)"
   ]
  },
  {
   "cell_type": "markdown",
   "id": "dcdea232",
   "metadata": {},
   "source": [
    "Nous allons créer un l'architecture de l'ANN, entraîner et evaluer un modèle pour chaque service"
   ]
  },
  {
   "cell_type": "markdown",
   "id": "a4d20b45",
   "metadata": {},
   "source": [
    "**Type 5**"
   ]
  },
  {
   "cell_type": "code",
   "execution_count": 12,
   "id": "0a0ea832",
   "metadata": {
    "scrolled": true
   },
   "outputs": [],
   "source": [
    "ann = Sequential([\n",
    "    Dense(units=32,activation=\"relu\",kernel_initializer=\"normal\"),\n",
    "    Dense(units=16,activation=\"relu\",kernel_initializer=\"normal\"),\n",
    "    Dense(units=8,activation=\"relu\",kernel_initializer=\"normal\"),\n",
    "    Dense(units=1,activation=\"linear\")\n",
    "])\n",
    "\n",
    "adam = tf.keras.optimizers.Adam(learning_rate=0.01)\n",
    "\n",
    "ann.compile(optimizer=adam,loss=\"mean_squared_error\", metrics=\"mse\")"
   ]
  },
  {
   "cell_type": "code",
   "execution_count": 13,
   "id": "336a9f46",
   "metadata": {
    "scrolled": false
   },
   "outputs": [
    {
     "name": "stdout",
     "output_type": "stream",
     "text": [
      "Epoch 1/20\n",
      "14498/14498 [==============================] - 48s 3ms/step - loss: 772.9396 - mse: 772.9396\n",
      "Epoch 2/20\n",
      "14498/14498 [==============================] - 40s 3ms/step - loss: 681.4412 - mse: 681.4412\n",
      "Epoch 3/20\n",
      "14498/14498 [==============================] - 39s 3ms/step - loss: 664.3702 - mse: 664.3702\n",
      "Epoch 4/20\n",
      "14498/14498 [==============================] - 39s 3ms/step - loss: 660.8918 - mse: 660.8918\n",
      "Epoch 5/20\n",
      "14498/14498 [==============================] - 40s 3ms/step - loss: 652.1268 - mse: 652.1268\n",
      "Epoch 6/20\n",
      "14498/14498 [==============================] - 41s 3ms/step - loss: 648.0016 - mse: 648.0016\n",
      "Epoch 7/20\n",
      "14498/14498 [==============================] - 40s 3ms/step - loss: 643.4029 - mse: 643.4029\n",
      "Epoch 8/20\n",
      "14498/14498 [==============================] - 41s 3ms/step - loss: 641.8510 - mse: 641.8510\n",
      "Epoch 9/20\n",
      "14498/14498 [==============================] - 39s 3ms/step - loss: 642.2570 - mse: 642.2570\n",
      "Epoch 10/20\n",
      "14498/14498 [==============================] - 38s 3ms/step - loss: 638.4947 - mse: 638.4947\n",
      "Epoch 11/20\n",
      "14498/14498 [==============================] - 39s 3ms/step - loss: 636.6764 - mse: 636.6764\n",
      "Epoch 12/20\n",
      "14498/14498 [==============================] - 38s 3ms/step - loss: 632.1505 - mse: 632.1505\n",
      "Epoch 13/20\n",
      "14498/14498 [==============================] - 38s 3ms/step - loss: 636.9327 - mse: 636.9327\n",
      "Epoch 14/20\n",
      "14498/14498 [==============================] - 39s 3ms/step - loss: 633.0061 - mse: 633.0061\n",
      "Epoch 15/20\n",
      "14498/14498 [==============================] - 39s 3ms/step - loss: 629.2704 - mse: 629.2704\n",
      "Epoch 16/20\n",
      "14498/14498 [==============================] - 36s 2ms/step - loss: 630.0024 - mse: 630.0024\n",
      "Epoch 17/20\n",
      "14498/14498 [==============================] - 34s 2ms/step - loss: 628.9665 - mse: 628.9665\n",
      "Epoch 18/20\n",
      "14498/14498 [==============================] - 34s 2ms/step - loss: 630.5579 - mse: 630.5579\n",
      "Epoch 19/20\n",
      "14498/14498 [==============================] - 40s 3ms/step - loss: 628.0359 - mse: 628.0359\n",
      "Epoch 20/20\n",
      "14498/14498 [==============================] - 42s 3ms/step - loss: 624.7079 - mse: 624.7079\n"
     ]
    },
    {
     "data": {
      "text/plain": [
       "<keras.src.callbacks.History at 0x264d588d5e0>"
      ]
     },
     "execution_count": 13,
     "metadata": {},
     "output_type": "execute_result"
    }
   ],
   "source": [
    "ann.fit(X1_train,y1_train,batch_size=32,epochs=20)"
   ]
  },
  {
   "cell_type": "code",
   "execution_count": 14,
   "id": "86e36d7d",
   "metadata": {
    "scrolled": true
   },
   "outputs": [
    {
     "name": "stdout",
     "output_type": "stream",
     "text": [
      "3625/3625 [==============================] - 9s 2ms/step - loss: 594.5507 - mse: 594.5507\n"
     ]
    }
   ],
   "source": [
    "score5 = ann.evaluate(X1_test, y1_test)"
   ]
  },
  {
   "cell_type": "code",
   "execution_count": 15,
   "id": "2dd3d46b",
   "metadata": {
    "scrolled": true
   },
   "outputs": [
    {
     "name": "stdout",
     "output_type": "stream",
     "text": [
      "Le RMSE obtenu avec ANN pour le service de type 5 est 24.383410758440743\n"
     ]
    }
   ],
   "source": [
    "print(f\"Le RMSE obtenu avec ANN pour le service de type 5 est {score5[1]**0.5}\")"
   ]
  },
  {
   "cell_type": "code",
   "execution_count": 16,
   "id": "6fdac6f7",
   "metadata": {
    "scrolled": true
   },
   "outputs": [
    {
     "name": "stderr",
     "output_type": "stream",
     "text": [
      "C:\\Users\\Massamba\\AppData\\Roaming\\Python\\Python39\\site-packages\\keras\\src\\engine\\training.py:3000: UserWarning: You are saving your model as an HDF5 file via `model.save()`. This file format is considered legacy. We recommend using instead the native Keras format, e.g. `model.save('my_model.keras')`.\n",
      "  saving_api.save_model(\n"
     ]
    }
   ],
   "source": [
    "ann.save(\"models/service_type_5.h5\")"
   ]
  },
  {
   "cell_type": "markdown",
   "id": "4e490403",
   "metadata": {},
   "source": [
    "**Type 20**"
   ]
  },
  {
   "cell_type": "code",
   "execution_count": 17,
   "id": "7a207ab1",
   "metadata": {
    "scrolled": true
   },
   "outputs": [],
   "source": [
    "ann = Sequential([\n",
    "    Dense(units=32,activation=\"relu\",kernel_initializer=\"normal\"),\n",
    "    Dense(units=16,activation=\"relu\",kernel_initializer=\"normal\"),\n",
    "    Dense(units=8,activation=\"relu\",kernel_initializer=\"normal\"),\n",
    "    Dense(units=1,activation=\"linear\")\n",
    "])\n",
    "\n",
    "adam = tf.keras.optimizers.Adam(learning_rate=0.01)\n",
    "\n",
    "ann.compile(optimizer=adam,loss=\"mean_squared_error\", metrics=\"mse\")"
   ]
  },
  {
   "cell_type": "code",
   "execution_count": 18,
   "id": "edd9bdde",
   "metadata": {
    "scrolled": true
   },
   "outputs": [
    {
     "name": "stdout",
     "output_type": "stream",
     "text": [
      "Epoch 1/20\n",
      "7819/7819 [==============================] - 22s 3ms/step - loss: 1162.3860 - mse: 1162.3860\n",
      "Epoch 2/20\n",
      "7819/7819 [==============================] - 21s 3ms/step - loss: 1049.0941 - mse: 1049.0941\n",
      "Epoch 3/20\n",
      "7819/7819 [==============================] - 21s 3ms/step - loss: 1014.7167 - mse: 1014.7167\n",
      "Epoch 4/20\n",
      "7819/7819 [==============================] - 20s 3ms/step - loss: 1001.7532 - mse: 1001.7532\n",
      "Epoch 5/20\n",
      "7819/7819 [==============================] - 20s 3ms/step - loss: 990.5463 - mse: 990.5463\n",
      "Epoch 6/20\n",
      "7819/7819 [==============================] - 20s 3ms/step - loss: 983.9070 - mse: 983.9070\n",
      "Epoch 7/20\n",
      "7819/7819 [==============================] - 20s 3ms/step - loss: 971.2883 - mse: 971.2883\n",
      "Epoch 8/20\n",
      "7819/7819 [==============================] - 20s 3ms/step - loss: 972.5643 - mse: 972.5643\n",
      "Epoch 9/20\n",
      "7819/7819 [==============================] - 20s 3ms/step - loss: 969.3234 - mse: 969.3234\n",
      "Epoch 10/20\n",
      "7819/7819 [==============================] - 22s 3ms/step - loss: 963.4811 - mse: 963.4811\n",
      "Epoch 11/20\n",
      "7819/7819 [==============================] - 22s 3ms/step - loss: 959.3402 - mse: 959.3402\n",
      "Epoch 12/20\n",
      "7819/7819 [==============================] - 21s 3ms/step - loss: 959.0083 - mse: 959.0083\n",
      "Epoch 13/20\n",
      "7819/7819 [==============================] - 22s 3ms/step - loss: 956.4084 - mse: 956.4084\n",
      "Epoch 14/20\n",
      "7819/7819 [==============================] - 21s 3ms/step - loss: 954.6839 - mse: 954.6839\n",
      "Epoch 15/20\n",
      "7819/7819 [==============================] - 22s 3ms/step - loss: 951.7099 - mse: 951.7099\n",
      "Epoch 16/20\n",
      "7819/7819 [==============================] - 22s 3ms/step - loss: 947.9747 - mse: 947.9747\n",
      "Epoch 17/20\n",
      "7819/7819 [==============================] - 22s 3ms/step - loss: 946.8612 - mse: 946.8612\n",
      "Epoch 18/20\n",
      "7819/7819 [==============================] - 23s 3ms/step - loss: 944.0894 - mse: 944.0894\n",
      "Epoch 19/20\n",
      "7819/7819 [==============================] - 24s 3ms/step - loss: 947.1210 - mse: 947.1210\n",
      "Epoch 20/20\n",
      "7819/7819 [==============================] - 25s 3ms/step - loss: 944.8376 - mse: 944.8376\n"
     ]
    },
    {
     "data": {
      "text/plain": [
       "<keras.src.callbacks.History at 0x265134f7e50>"
      ]
     },
     "execution_count": 18,
     "metadata": {},
     "output_type": "execute_result"
    }
   ],
   "source": [
    "ann.fit(X2_train,y2_train,batch_size=32,epochs=20)"
   ]
  },
  {
   "cell_type": "code",
   "execution_count": 19,
   "id": "bacf354a",
   "metadata": {
    "scrolled": true
   },
   "outputs": [
    {
     "name": "stdout",
     "output_type": "stream",
     "text": [
      "1955/1955 [==============================] - 6s 3ms/step - loss: 964.1425 - mse: 964.1425\n"
     ]
    }
   ],
   "source": [
    "score20=ann.evaluate(X2_test, y2_test)"
   ]
  },
  {
   "cell_type": "code",
   "execution_count": 20,
   "id": "4c742f4b",
   "metadata": {
    "scrolled": true
   },
   "outputs": [
    {
     "name": "stdout",
     "output_type": "stream",
     "text": [
      "Le RMSE obtenu avec ANN pour le service de type 20 est 31.05064340806302\n"
     ]
    }
   ],
   "source": [
    "print(f\"Le RMSE obtenu avec ANN pour le service de type 20 est {score20[1]**0.5}\")"
   ]
  },
  {
   "cell_type": "code",
   "execution_count": 20,
   "id": "fc0fda7b",
   "metadata": {
    "scrolled": true
   },
   "outputs": [],
   "source": [
    "ann.save(\"models/service_type_20.h5\")"
   ]
  },
  {
   "cell_type": "markdown",
   "id": "cd8b514f",
   "metadata": {},
   "source": [
    "**Type 2**"
   ]
  },
  {
   "cell_type": "code",
   "execution_count": 21,
   "id": "8f74472a",
   "metadata": {
    "scrolled": true
   },
   "outputs": [],
   "source": [
    "ann = Sequential([\n",
    "    Dense(units=32,activation=\"relu\",kernel_initializer=\"normal\"),\n",
    "    Dense(units=16,activation=\"relu\",kernel_initializer=\"normal\"),\n",
    "    Dense(units=8,activation=\"relu\",kernel_initializer=\"normal\"),\n",
    "    Dense(units=1,activation=\"linear\")\n",
    "])\n",
    "\n",
    "adam = tf.keras.optimizers.Adam(learning_rate=0.01)\n",
    "\n",
    "ann.compile(optimizer=adam,loss=\"mean_squared_error\", metrics=\"mse\")"
   ]
  },
  {
   "cell_type": "code",
   "execution_count": 22,
   "id": "d6d60c67",
   "metadata": {
    "scrolled": true
   },
   "outputs": [
    {
     "name": "stdout",
     "output_type": "stream",
     "text": [
      "Epoch 1/20\n",
      "6656/6656 [==============================] - 22s 3ms/step - loss: 1544.9410 - mse: 1544.9410\n",
      "Epoch 2/20\n",
      "6656/6656 [==============================] - 18s 3ms/step - loss: 1340.8369 - mse: 1340.8369\n",
      "Epoch 3/20\n",
      "6656/6656 [==============================] - 18s 3ms/step - loss: 1282.9648 - mse: 1282.9648\n",
      "Epoch 4/20\n",
      "6656/6656 [==============================] - 18s 3ms/step - loss: 1254.6453 - mse: 1254.6453\n",
      "Epoch 5/20\n",
      "6656/6656 [==============================] - 18s 3ms/step - loss: 1243.7030 - mse: 1243.7030\n",
      "Epoch 6/20\n",
      "6656/6656 [==============================] - 18s 3ms/step - loss: 1235.9298 - mse: 1235.9298\n",
      "Epoch 7/20\n",
      "6656/6656 [==============================] - 18s 3ms/step - loss: 1228.0486 - mse: 1228.0486\n",
      "Epoch 8/20\n",
      "6656/6656 [==============================] - 18s 3ms/step - loss: 1225.2321 - mse: 1225.2321\n",
      "Epoch 9/20\n",
      "6656/6656 [==============================] - 17s 3ms/step - loss: 1221.3356 - mse: 1221.3356\n",
      "Epoch 10/20\n",
      "6656/6656 [==============================] - 18s 3ms/step - loss: 1216.3311 - mse: 1216.3311\n",
      "Epoch 11/20\n",
      "6656/6656 [==============================] - 18s 3ms/step - loss: 1209.8718 - mse: 1209.8718\n",
      "Epoch 12/20\n",
      "6656/6656 [==============================] - 17s 3ms/step - loss: 1205.1709 - mse: 1205.1709\n",
      "Epoch 13/20\n",
      "6656/6656 [==============================] - 17s 3ms/step - loss: 1203.2120 - mse: 1203.2120\n",
      "Epoch 14/20\n",
      "6656/6656 [==============================] - 17s 3ms/step - loss: 1195.6145 - mse: 1195.6145\n",
      "Epoch 15/20\n",
      "6656/6656 [==============================] - 18s 3ms/step - loss: 1197.4598 - mse: 1197.4598\n",
      "Epoch 16/20\n",
      "6656/6656 [==============================] - 17s 3ms/step - loss: 1198.2201 - mse: 1198.2201\n",
      "Epoch 17/20\n",
      "6656/6656 [==============================] - 18s 3ms/step - loss: 1194.4625 - mse: 1194.4625\n",
      "Epoch 18/20\n",
      "6656/6656 [==============================] - 17s 3ms/step - loss: 1192.3406 - mse: 1192.3406\n",
      "Epoch 19/20\n",
      "6656/6656 [==============================] - 18s 3ms/step - loss: 1189.0452 - mse: 1189.0452\n",
      "Epoch 20/20\n",
      "6656/6656 [==============================] - 21s 3ms/step - loss: 1188.9938 - mse: 1188.9938\n"
     ]
    },
    {
     "data": {
      "text/plain": [
       "<keras.src.callbacks.History at 0x265136c6490>"
      ]
     },
     "execution_count": 22,
     "metadata": {},
     "output_type": "execute_result"
    }
   ],
   "source": [
    "ann.fit(X3_train,y3_train,batch_size=32,epochs=20)"
   ]
  },
  {
   "cell_type": "code",
   "execution_count": 23,
   "id": "7299c789",
   "metadata": {
    "scrolled": true
   },
   "outputs": [
    {
     "name": "stdout",
     "output_type": "stream",
     "text": [
      "1664/1664 [==============================] - 4s 2ms/step - loss: 1157.4689 - mse: 1157.4689\n"
     ]
    }
   ],
   "source": [
    "score2=ann.evaluate(X3_test, y3_test)"
   ]
  },
  {
   "cell_type": "code",
   "execution_count": 24,
   "id": "58b925d0",
   "metadata": {
    "scrolled": true
   },
   "outputs": [
    {
     "name": "stdout",
     "output_type": "stream",
     "text": [
      "Le RMSE obtenu avec ANN pour le service de type 2 est 34.02159420236378\n"
     ]
    }
   ],
   "source": [
    "print(f\"Le RMSE obtenu avec ANN pour le service de type 2 est {score2[1]**0.5}\")"
   ]
  },
  {
   "cell_type": "code",
   "execution_count": 25,
   "id": "cfeaa700",
   "metadata": {
    "scrolled": true
   },
   "outputs": [],
   "source": [
    "ann.save(\"models/service_type_2.h5\")"
   ]
  },
  {
   "cell_type": "markdown",
   "id": "c3802286",
   "metadata": {},
   "source": [
    "**Type 11**"
   ]
  },
  {
   "cell_type": "code",
   "execution_count": 26,
   "id": "257a4eeb",
   "metadata": {
    "scrolled": true
   },
   "outputs": [],
   "source": [
    "ann = Sequential([\n",
    "    Dense(units=32,activation=\"relu\",kernel_initializer=\"normal\"),\n",
    "    Dense(units=16,activation=\"relu\",kernel_initializer=\"normal\"),\n",
    "    Dense(units=8,activation=\"relu\",kernel_initializer=\"normal\"),\n",
    "    Dense(units=1,activation=\"linear\")\n",
    "])\n",
    "\n",
    "adam = tf.keras.optimizers.Adam(learning_rate=0.01)\n",
    "\n",
    "ann.compile(optimizer=adam,loss=\"mean_squared_error\", metrics=\"mse\")"
   ]
  },
  {
   "cell_type": "code",
   "execution_count": 27,
   "id": "ca9f43e8",
   "metadata": {
    "scrolled": true
   },
   "outputs": [
    {
     "name": "stdout",
     "output_type": "stream",
     "text": [
      "Epoch 1/20\n",
      "3702/3702 [==============================] - 15s 4ms/step - loss: 986.0132 - mse: 986.0132\n",
      "Epoch 2/20\n",
      "3702/3702 [==============================] - 14s 4ms/step - loss: 828.1088 - mse: 828.1088\n",
      "Epoch 3/20\n",
      "3702/3702 [==============================] - 12s 3ms/step - loss: 812.5526 - mse: 812.5526\n",
      "Epoch 4/20\n",
      "3702/3702 [==============================] - 10s 3ms/step - loss: 793.8769 - mse: 793.8769\n",
      "Epoch 5/20\n",
      "3702/3702 [==============================] - 10s 3ms/step - loss: 780.1984 - mse: 780.1984\n",
      "Epoch 6/20\n",
      "3702/3702 [==============================] - 11s 3ms/step - loss: 776.1179 - mse: 776.1179\n",
      "Epoch 7/20\n",
      "3702/3702 [==============================] - 11s 3ms/step - loss: 760.3142 - mse: 760.3142\n",
      "Epoch 8/20\n",
      "3702/3702 [==============================] - 12s 3ms/step - loss: 758.2438 - mse: 758.2438\n",
      "Epoch 9/20\n",
      "3702/3702 [==============================] - 11s 3ms/step - loss: 751.4370 - mse: 751.4370\n",
      "Epoch 10/20\n",
      "3702/3702 [==============================] - 10s 3ms/step - loss: 747.5977 - mse: 747.5977\n",
      "Epoch 11/20\n",
      "3702/3702 [==============================] - 11s 3ms/step - loss: 742.3148 - mse: 742.3148\n",
      "Epoch 12/20\n",
      "3702/3702 [==============================] - 10s 3ms/step - loss: 735.9631 - mse: 735.9631\n",
      "Epoch 13/20\n",
      "3702/3702 [==============================] - 11s 3ms/step - loss: 728.3000 - mse: 728.3000\n",
      "Epoch 14/20\n",
      "3702/3702 [==============================] - 11s 3ms/step - loss: 727.5033 - mse: 727.5033\n",
      "Epoch 15/20\n",
      "3702/3702 [==============================] - 11s 3ms/step - loss: 723.1284 - mse: 723.1284\n",
      "Epoch 16/20\n",
      "3702/3702 [==============================] - 10s 3ms/step - loss: 723.7409 - mse: 723.7409\n",
      "Epoch 17/20\n",
      "3702/3702 [==============================] - 11s 3ms/step - loss: 718.6819 - mse: 718.6819\n",
      "Epoch 18/20\n",
      "3702/3702 [==============================] - 11s 3ms/step - loss: 717.0871 - mse: 717.0871\n",
      "Epoch 19/20\n",
      "3702/3702 [==============================] - 11s 3ms/step - loss: 712.5883 - mse: 712.5883\n",
      "Epoch 20/20\n",
      "3702/3702 [==============================] - 10s 3ms/step - loss: 714.8467 - mse: 714.8467\n"
     ]
    },
    {
     "data": {
      "text/plain": [
       "<keras.src.callbacks.History at 0x2656eb6ae80>"
      ]
     },
     "execution_count": 27,
     "metadata": {},
     "output_type": "execute_result"
    }
   ],
   "source": [
    "ann.fit(X4_train,y4_train,batch_size=32,epochs=20)"
   ]
  },
  {
   "cell_type": "code",
   "execution_count": 28,
   "id": "7d83f394",
   "metadata": {
    "scrolled": true
   },
   "outputs": [
    {
     "name": "stdout",
     "output_type": "stream",
     "text": [
      "926/926 [==============================] - 2s 2ms/step - loss: 773.4893 - mse: 773.4893\n"
     ]
    }
   ],
   "source": [
    "score11=ann.evaluate(X4_test, y4_test)"
   ]
  },
  {
   "cell_type": "code",
   "execution_count": 29,
   "id": "76857ceb",
   "metadata": {
    "scrolled": true
   },
   "outputs": [
    {
     "name": "stdout",
     "output_type": "stream",
     "text": [
      "Le RMSE obtenu avec ANN pour le service de type 11 est 27.811674847310076\n"
     ]
    }
   ],
   "source": [
    "print(f\"Le RMSE obtenu avec ANN pour le service de type 11 est {score11[1]**0.5}\")"
   ]
  },
  {
   "cell_type": "code",
   "execution_count": 30,
   "id": "5fff0ea9",
   "metadata": {
    "scrolled": true
   },
   "outputs": [],
   "source": [
    "ann.save(\"models/service_type_11.h5\")"
   ]
  },
  {
   "cell_type": "markdown",
   "id": "d35424d6",
   "metadata": {},
   "source": [
    "**Type 9**"
   ]
  },
  {
   "cell_type": "code",
   "execution_count": 31,
   "id": "a8d3cd69",
   "metadata": {
    "scrolled": true
   },
   "outputs": [],
   "source": [
    "ann = Sequential([\n",
    "    Dense(units=32,activation=\"relu\",kernel_initializer=\"normal\"),\n",
    "    Dense(units=16,activation=\"relu\",kernel_initializer=\"normal\"),\n",
    "    Dense(units=8,activation=\"relu\",kernel_initializer=\"normal\"),\n",
    "    Dense(units=1,activation=\"linear\")\n",
    "])\n",
    "\n",
    "adam = tf.keras.optimizers.Adam(learning_rate=0.01)\n",
    "\n",
    "ann.compile(optimizer=adam,loss=\"mean_squared_error\", metrics=\"mse\")"
   ]
  },
  {
   "cell_type": "code",
   "execution_count": 32,
   "id": "9046fae3",
   "metadata": {
    "scrolled": true
   },
   "outputs": [
    {
     "name": "stdout",
     "output_type": "stream",
     "text": [
      "Epoch 1/20\n",
      "1615/1615 [==============================] - 5s 3ms/step - loss: 1599.3818 - mse: 1599.3818\n",
      "Epoch 2/20\n",
      "1615/1615 [==============================] - 4s 3ms/step - loss: 1444.0708 - mse: 1444.0708\n",
      "Epoch 3/20\n",
      "1615/1615 [==============================] - 4s 3ms/step - loss: 1414.8021 - mse: 1414.8021\n",
      "Epoch 4/20\n",
      "1615/1615 [==============================] - 4s 3ms/step - loss: 1372.6879 - mse: 1372.6879\n",
      "Epoch 5/20\n",
      "1615/1615 [==============================] - 4s 3ms/step - loss: 1346.3817 - mse: 1346.3817\n",
      "Epoch 6/20\n",
      "1615/1615 [==============================] - 4s 3ms/step - loss: 1332.3955 - mse: 1332.3955\n",
      "Epoch 7/20\n",
      "1615/1615 [==============================] - 4s 3ms/step - loss: 1319.5823 - mse: 1319.5823\n",
      "Epoch 8/20\n",
      "1615/1615 [==============================] - 4s 3ms/step - loss: 1306.8307 - mse: 1306.8307\n",
      "Epoch 9/20\n",
      "1615/1615 [==============================] - 4s 3ms/step - loss: 1297.6462 - mse: 1297.6462\n",
      "Epoch 10/20\n",
      "1615/1615 [==============================] - 4s 3ms/step - loss: 1295.0973 - mse: 1295.0973\n",
      "Epoch 11/20\n",
      "1615/1615 [==============================] - 4s 3ms/step - loss: 1286.5358 - mse: 1286.5358\n",
      "Epoch 12/20\n",
      "1615/1615 [==============================] - 4s 3ms/step - loss: 1285.2109 - mse: 1285.2109\n",
      "Epoch 13/20\n",
      "1615/1615 [==============================] - 4s 3ms/step - loss: 1273.3555 - mse: 1273.3555\n",
      "Epoch 14/20\n",
      "1615/1615 [==============================] - 4s 3ms/step - loss: 1265.9307 - mse: 1265.9307\n",
      "Epoch 15/20\n",
      "1615/1615 [==============================] - 4s 3ms/step - loss: 1269.7493 - mse: 1269.7493\n",
      "Epoch 16/20\n",
      "1615/1615 [==============================] - 4s 3ms/step - loss: 1258.1716 - mse: 1258.1716\n",
      "Epoch 17/20\n",
      "1615/1615 [==============================] - 4s 3ms/step - loss: 1263.1052 - mse: 1263.1052\n",
      "Epoch 18/20\n",
      "1615/1615 [==============================] - 4s 3ms/step - loss: 1254.6115 - mse: 1254.6115\n",
      "Epoch 19/20\n",
      "1615/1615 [==============================] - 4s 3ms/step - loss: 1255.0640 - mse: 1255.0640\n",
      "Epoch 20/20\n",
      "1615/1615 [==============================] - 4s 3ms/step - loss: 1248.4398 - mse: 1248.4398\n"
     ]
    },
    {
     "data": {
      "text/plain": [
       "<keras.src.callbacks.History at 0x2657cdd1af0>"
      ]
     },
     "execution_count": 32,
     "metadata": {},
     "output_type": "execute_result"
    }
   ],
   "source": [
    "ann.fit(X5_train,y5_train,batch_size=32,epochs=20)"
   ]
  },
  {
   "cell_type": "code",
   "execution_count": 33,
   "id": "590e9b9a",
   "metadata": {
    "scrolled": true
   },
   "outputs": [
    {
     "name": "stdout",
     "output_type": "stream",
     "text": [
      "404/404 [==============================] - 1s 2ms/step - loss: 1199.9482 - mse: 1199.9482\n"
     ]
    }
   ],
   "source": [
    "score9=ann.evaluate(X5_test, y5_test)"
   ]
  },
  {
   "cell_type": "code",
   "execution_count": 34,
   "id": "67c0e2ae",
   "metadata": {
    "scrolled": true
   },
   "outputs": [
    {
     "name": "stdout",
     "output_type": "stream",
     "text": [
      "Le RMSE obtenu avec ANN pour le service de type 9 est 34.64026908364743\n"
     ]
    }
   ],
   "source": [
    "print(f\"Le RMSE obtenu avec ANN pour le service de type 9 est {score9[1]**0.5}\")"
   ]
  },
  {
   "cell_type": "code",
   "execution_count": 35,
   "id": "0f7c130b",
   "metadata": {
    "scrolled": true
   },
   "outputs": [],
   "source": [
    "ann.save(\"models/service_type_9.h5\")"
   ]
  },
  {
   "cell_type": "code",
   "execution_count": 37,
   "id": "6a166005",
   "metadata": {
    "scrolled": true
   },
   "outputs": [],
   "source": [
    "scores = {\n",
    "    \"2\": score2[1]**0.5,\n",
    "    \"5\": score5[1]**0.5,\n",
    "    \"9\": score9[1]**0.5,\n",
    "    \"11\": score11[1]**0.5,\n",
    "    \"20\": score20[1]**0.5\n",
    "}"
   ]
  },
  {
   "cell_type": "markdown",
   "id": "97e1761a",
   "metadata": {},
   "source": [
    "**Résultats finaux**"
   ]
  },
  {
   "cell_type": "code",
   "execution_count": 38,
   "id": "d2cb897d",
   "metadata": {
    "scrolled": true
   },
   "outputs": [
    {
     "name": "stdout",
     "output_type": "stream",
     "text": [
      "Pour le service 2, le RMSE pour l'ANN est 34.02159420236378\n",
      "\n",
      "Pour le service 5, le RMSE pour l'ANN est 24.383410758440743\n",
      "\n",
      "Pour le service 9, le RMSE pour l'ANN est 34.64026908364743\n",
      "\n",
      "Pour le service 11, le RMSE pour l'ANN est 27.811674847310076\n",
      "\n",
      "Pour le service 20, le RMSE pour l'ANN est 31.05064340806302\n",
      "\n"
     ]
    }
   ],
   "source": [
    "for group, subset_df in grouped_df:\n",
    "    print(f\"Pour le service {group}, le RMSE pour l'ANN est {scores[str(group)]}\\n\")"
   ]
  }
 ],
 "metadata": {
  "kernelspec": {
   "display_name": "Python 3 (ipykernel)",
   "language": "python",
   "name": "python3"
  },
  "language_info": {
   "codemirror_mode": {
    "name": "ipython",
    "version": 3
   },
   "file_extension": ".py",
   "mimetype": "text/x-python",
   "name": "python",
   "nbconvert_exporter": "python",
   "pygments_lexer": "ipython3",
   "version": "3.9.13"
  }
 },
 "nbformat": 4,
 "nbformat_minor": 5
}
